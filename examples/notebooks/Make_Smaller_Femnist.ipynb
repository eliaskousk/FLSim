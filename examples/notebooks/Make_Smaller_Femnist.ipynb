{
 "cells": [
  {
   "cell_type": "code",
   "execution_count": 2,
   "id": "a98a8234",
   "metadata": {},
   "outputs": [],
   "source": [
    "import json\n",
    "\n",
    "train_data = json.load(open('data/femnist_348_train.json', 'r+'))\n",
    "test_data = json.load(open('data/femnist_test.json', 'r+'))"
   ]
  },
  {
   "cell_type": "code",
   "execution_count": 3,
   "id": "b187743b",
   "metadata": {},
   "outputs": [],
   "source": [
    "import random\n",
    "\n",
    "random.seed(0)\n",
    "\n",
    "train_select = random.sample(train_data['users'], 10)\n",
    "test_select = random.sample(test_data['users'], 10)"
   ]
  },
  {
   "cell_type": "code",
   "execution_count": 9,
   "id": "435189aa",
   "metadata": {},
   "outputs": [],
   "source": [
    "train_user_data = {x: train_data['user_data'][x] for x in train_select}\n",
    "test_user_data = {x: test_data['user_data'][x] for x in test_select}"
   ]
  },
  {
   "cell_type": "code",
   "execution_count": 14,
   "id": "6c8b2546",
   "metadata": {},
   "outputs": [],
   "source": [
    "train_num_samples = {x: len(train_data['user_data'][x]['x']) for x in select}\n",
    "test_num_samples = {x: len(train_data['user_data'][x]['x']) for x in test_select}"
   ]
  },
  {
   "cell_type": "code",
   "execution_count": 15,
   "id": "e7f242d9",
   "metadata": {},
   "outputs": [],
   "source": [
    "data = {'user_data': user_data, 'num_samples': num_samples, 'users': select}"
   ]
  },
  {
   "cell_type": "code",
   "execution_count": 17,
   "id": "5480be22",
   "metadata": {},
   "outputs": [],
   "source": [
    "json.dump(data, open('data/femnist_10_train.json', 'w+'))"
   ]
  }
 ],
 "metadata": {
  "kernelspec": {
   "display_name": "venv",
   "language": "python",
   "name": "venv"
  },
  "language_info": {
   "codemirror_mode": {
    "name": "ipython",
    "version": 3
   },
   "file_extension": ".py",
   "mimetype": "text/x-python",
   "name": "python",
   "nbconvert_exporter": "python",
   "pygments_lexer": "ipython3",
   "version": "3.7.5"
  }
 },
 "nbformat": 4,
 "nbformat_minor": 5
}
